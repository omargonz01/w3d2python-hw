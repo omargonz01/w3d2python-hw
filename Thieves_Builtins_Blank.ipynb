{
 "cells": [
  {
   "cell_type": "markdown",
   "metadata": {},
   "source": [
    "# Map, Filter, Reduce, Lambda & Recursion"
   ]
  },
  {
   "cell_type": "markdown",
   "metadata": {},
   "source": [
    "## Tasks Today:\n",
    "\n",
    "1) <b>Lambda Functions</b> <br>\n",
    " &nbsp;&nbsp;&nbsp;&nbsp; a) Syntax <br>\n",
    " &nbsp;&nbsp;&nbsp;&nbsp; b) Saving to a Variable <br>\n",
    " &nbsp;&nbsp;&nbsp;&nbsp; c) Multiple Inputs <br>\n",
    " &nbsp;&nbsp;&nbsp;&nbsp; d) Passing a Lambda into a Function <br>\n",
    " &nbsp;&nbsp;&nbsp;&nbsp; e) Returning a Lambda from a Function <br>\n",
    " &nbsp;&nbsp;&nbsp;&nbsp; f) In-Class Exercise #1 <br>\n",
    "2) <b>Map</b> <br>\n",
    " &nbsp;&nbsp;&nbsp;&nbsp; a) Syntax <br>\n",
    " &nbsp;&nbsp;&nbsp;&nbsp; b) Using Lambda's with Map <br>\n",
    " &nbsp;&nbsp;&nbsp;&nbsp; c) In-Class Exercise #2 <br>\n",
    "3) <b>Filter</b> <br>\n",
    " &nbsp;&nbsp;&nbsp;&nbsp; a) Syntax <br>\n",
    " &nbsp;&nbsp;&nbsp;&nbsp; b) Using Lambda's with Filter <br>\n",
    " &nbsp;&nbsp;&nbsp;&nbsp; c) In-Class Exercise #3 <br>\n",
    "4) <b>Reduce</b> <br>\n",
    " &nbsp;&nbsp;&nbsp;&nbsp; a) Syntax <br>\n",
    " &nbsp;&nbsp;&nbsp;&nbsp; b) Using Lambda's with Reduce <br>\n",
    " &nbsp;&nbsp;&nbsp;&nbsp; c) In-Class Exercise #4 <br>\n",
    "5) <b>Recursion</b> <br>\n",
    " &nbsp;&nbsp;&nbsp;&nbsp; a) Implementing a Base <br>\n",
    " &nbsp;&nbsp;&nbsp;&nbsp; b) Writing a Factorial Function <br>\n",
    " &nbsp;&nbsp;&nbsp;&nbsp; c) In-Class Exercise #5 <br>\n",
    "6) <b>Generators & Iterators</b> <br>\n",
    " &nbsp;&nbsp;&nbsp;&nbsp; a) Yield Keyword <br>\n",
    " &nbsp;&nbsp;&nbsp;&nbsp; b) Inifinite Generator <br>\n",
    " &nbsp;&nbsp;&nbsp;&nbsp; c) In-Class Exercise #6 <br>\n",
    "7) <b>Exercises</b> <br>\n",
    " &nbsp;&nbsp;&nbsp;&nbsp; a) Exercise #1 - Filtering Empty Strings <br>\n",
    " &nbsp;&nbsp;&nbsp;&nbsp; b) Exercise #2 - Sorting with Last Name <br>\n",
    " &nbsp;&nbsp;&nbsp;&nbsp; c) Exercise #3 - Conversion to Farhenheit <br>\n",
    " &nbsp;&nbsp;&nbsp;&nbsp; d) Exercise #4 - Fibonacci Sequence <br>"
   ]
  },
  {
   "cell_type": "markdown",
   "metadata": {},
   "source": [
    "## Lambda Functions <br>\n",
    "<p>Lambda functions... or \"Anonymous Functions\" are referring to inline functions with no name. The keyword lambda denotes the no name function, and executes within a single line. Without saving it to a variable; however, it is not able to be used, unless passed in either as a paramater or within list comprehension.<br>Written as \"(keyword lambda) (one or more inputs) (colon) (function to be executed)\"</p>"
   ]
  },
  {
   "cell_type": "markdown",
   "metadata": {},
   "source": [
    "#### Syntax"
   ]
  },
  {
   "cell_type": "code",
   "execution_count": 2,
   "metadata": {},
   "outputs": [
    {
     "name": "stdout",
     "output_type": "stream",
     "text": [
      "6\n",
      "<function <lambda> at 0x0000018D0CB0FBA0>\n"
     ]
    }
   ],
   "source": [
    "def addTwo(num):\n",
    "    return num + 2 #num + 2 is the expression \n",
    "\n",
    "print(addTwo(4))\n",
    "\n",
    "#Lambda syntax/anatomy\n",
    "#Lambda parameter: expression whos value gets returned\n",
    "\n",
    "print(lambda num: num + 2)"
   ]
  },
  {
   "cell_type": "markdown",
   "metadata": {},
   "source": [
    "#### Saving to a Variable"
   ]
  },
  {
   "cell_type": "code",
   "execution_count": 3,
   "metadata": {},
   "outputs": [
    {
     "name": "stdout",
     "output_type": "stream",
     "text": [
      "<function <lambda> at 0x0000018D0CB0FA60>\n",
      "9\n"
     ]
    }
   ],
   "source": [
    "addTwo = lambda num: num + 2 \n",
    "\n",
    "print(addTwo)\n",
    "print(addTwo(7))"
   ]
  },
  {
   "cell_type": "markdown",
   "metadata": {},
   "source": [
    "#### Multiple Inputs"
   ]
  },
  {
   "cell_type": "code",
   "execution_count": 4,
   "metadata": {},
   "outputs": [
    {
     "name": "stdout",
     "output_type": "stream",
     "text": [
      "<function <lambda> at 0x0000018D0CB0FCE0>\n",
      "6\n"
     ]
    }
   ],
   "source": [
    "volume = lambda length, width, height: length * width * height\n",
    "\n",
    "print(volume)\n",
    "print(volume(1, 2, 3))"
   ]
  },
  {
   "cell_type": "markdown",
   "metadata": {},
   "source": [
    "#### Passing a Lambda into a Function"
   ]
  },
  {
   "cell_type": "code",
   "execution_count": 6,
   "metadata": {},
   "outputs": [
    {
     "name": "stdout",
     "output_type": "stream",
     "text": [
      "9\n"
     ]
    }
   ],
   "source": [
    "def multiply (function, num):\n",
    "    return function(num)\n",
    "\n",
    "multiply(lambda num: num * num, 2)\n",
    "\n",
    "# print(multiply(lambda num: num * num, 2))\n",
    "print(multiply(lambda num: num * num, 3))\n"
   ]
  },
  {
   "cell_type": "markdown",
   "metadata": {},
   "source": [
    "#### Returning a Lambda from a Function"
   ]
  },
  {
   "cell_type": "code",
   "execution_count": 10,
   "metadata": {},
   "outputs": [
    {
     "name": "stdout",
     "output_type": "stream",
     "text": [
      "16\n",
      "64\n"
     ]
    }
   ],
   "source": [
    "def multiply(num):\n",
    "    return(num) * 4\n",
    "\n",
    "def set_exponents(num):\n",
    "    return lambda lnum: lnum**num\n",
    "\n",
    "squares = set_exponents(2)\n",
    "\n",
    "print(squares(4))\n",
    "\n",
    "cubed = set_exponents(3)\n",
    "\n",
    "print(cubed(4))\n"
   ]
  },
  {
   "cell_type": "markdown",
   "metadata": {},
   "source": [
    "#### If Statements within Lambdas"
   ]
  },
  {
   "cell_type": "code",
   "execution_count": 12,
   "metadata": {},
   "outputs": [
    {
     "name": "stdout",
     "output_type": "stream",
     "text": [
      "6 is an even number\n"
     ]
    }
   ],
   "source": [
    "#Lambda x: Treu if (condition) else False\n",
    "\n",
    "is_even = lambda num: f'{num} is an even number' if num% 2 == 0 else f'{num} is not  even'\n",
    "\n",
    "print(is_even(6)) "
   ]
  },
  {
   "cell_type": "markdown",
   "metadata": {},
   "source": [
    "#### In-Class Exercise #1 <br>\n",
    "<p>Write an anonymous function that cubes the arguments passed in and assign the anonymous function to a variable 'f'.</p>"
   ]
  },
  {
   "cell_type": "code",
   "execution_count": 14,
   "metadata": {},
   "outputs": [
    {
     "name": "stdout",
     "output_type": "stream",
     "text": [
      "27\n"
     ]
    }
   ],
   "source": [
    "# write lambds that cubes assigned #\n",
    "\n",
    "def my_cubes(num):\n",
    "    return lambda lnum: lnum ** 3\n",
    "\n",
    "print(my_cubes(2)(3))"
   ]
  },
  {
   "cell_type": "markdown",
   "metadata": {},
   "source": [
    "## Map <br>\n",
    "<p>The map function allows you to iterate over an entire list while running a function on each item of the list. This is why the map function works well with lambda's, because it simplifies things and you write less lines of code.<br>The syntax for a map function is \"map(function to be used, list to be used)\"<br>However, you must be careful, as the map function returns a map object, not a list. To turn it into a list we use the list() type conversion.</p>"
   ]
  },
  {
   "cell_type": "markdown",
   "metadata": {},
   "source": [
    "#### Syntax"
   ]
  },
  {
   "cell_type": "code",
   "execution_count": 20,
   "metadata": {},
   "outputs": [
    {
     "name": "stdout",
     "output_type": "stream",
     "text": [
      "[2, 4, 6, 8, 10, 12, 14, 16]\n",
      "[2, 4, 6, 8, 10, 12, 14, 16]\n"
     ]
    }
   ],
   "source": [
    "#map (function, iterable(strings, list, sets, dictionaries))\n",
    "# map(function to be used, list to be used)\n",
    "\n",
    "def doubles_nums(alist):\n",
    "    doubles = []\n",
    "    for num in alist:\n",
    "        doubles.append(num*2)\n",
    "    return doubles\n",
    "    \n",
    "mylist = [1,2,3,4,5,6,7,8]\n",
    "\n",
    "print(doubles_nums(mylist))\n",
    "\n",
    "#simple 1 step function\n",
    "\n",
    "def double_a_num(num):\n",
    "    return num*2\n",
    "\n",
    "print(list(map(double_a_num, mylist)))\n"
   ]
  },
  {
   "cell_type": "markdown",
   "metadata": {},
   "source": [
    "#### Using Lambda's with Map"
   ]
  },
  {
   "cell_type": "code",
   "execution_count": 21,
   "metadata": {},
   "outputs": [
    {
     "name": "stdout",
     "output_type": "stream",
     "text": [
      "[2, 4, 6, 8, 10, 12, 14, 16]\n"
     ]
    }
   ],
   "source": [
    "\n",
    "\n",
    "print(list(map(lambda num: num*2, mylist)))\n",
    "\n"
   ]
  },
  {
   "cell_type": "markdown",
   "metadata": {},
   "source": [
    "#### In-Class Exercise #2 <br>\n",
    "<p>Use the map function to double each number and minus it by one in the list by using a lambda function</p>"
   ]
  },
  {
   "cell_type": "code",
   "execution_count": 23,
   "metadata": {},
   "outputs": [
    {
     "name": "stdout",
     "output_type": "stream",
     "text": [
      "[1, 3, 5, 7, 9, 11, 13, 15]\n"
     ]
    }
   ],
   "source": [
    "\n",
    "print(list(map(lambda num: num*2 -1, mylist))) \n"
   ]
  },
  {
   "cell_type": "markdown",
   "metadata": {},
   "source": [
    "## Filter() <br>\n",
    "<p>Filter's are similar to the map function, where you're able to pass a function argument and a list argument and filter out something from the list based on the conditions passed. Similar to the map function, it returns a filter object, so you need to type convert it to a list()</p>"
   ]
  },
  {
   "cell_type": "markdown",
   "metadata": {},
   "source": [
    "#### Syntax"
   ]
  },
  {
   "cell_type": "code",
   "execution_count": 25,
   "metadata": {},
   "outputs": [
    {
     "name": "stdout",
     "output_type": "stream",
     "text": [
      "[21, 35, 214]\n",
      "[21, 35, 214]\n"
     ]
    }
   ],
   "source": [
    "#user defined function\n",
    "\n",
    "def night_club(people):\n",
    "    not_bounced = []\n",
    "    for person in people:\n",
    "        if person >= 21:\n",
    "            not_bounced.append(person)\n",
    "    return not_bounced\n",
    "\n",
    "people = [1, 21, 35, 214, 15, 18, ]\n",
    "\n",
    "print(night_club(people))\n",
    "\n",
    "\n",
    "#essentially it is just shortening the amount of code. \n",
    "def bouncer(person):\n",
    "    return person >= 21\n",
    "\n",
    "print(list(filter(bouncer, people)))\n",
    "\n"
   ]
  },
  {
   "cell_type": "markdown",
   "metadata": {},
   "source": [
    "#### Using Lambda's with Filter()"
   ]
  },
  {
   "cell_type": "code",
   "execution_count": 26,
   "metadata": {},
   "outputs": [
    {
     "name": "stdout",
     "output_type": "stream",
     "text": [
      "[21, 35, 214]\n"
     ]
    }
   ],
   "source": [
    "# in this example you are using a Boolean variable ( if person >=21 return True, else False )\n",
    "\n",
    "# the function that you use inside of filter needs to return true or false\n",
    "#does it meet my condition or not?\n",
    "\n",
    "print(list(filter(lambda person: person >= 21, people)))"
   ]
  },
  {
   "cell_type": "markdown",
   "metadata": {},
   "source": [
    "#### In-Class Exercise #3 <br>\n",
    "<p>Filter out all the numbers that are below the mean of the list.<br><b>Hint: Import the 'statistics' module</b></p>"
   ]
  },
  {
   "cell_type": "code",
   "execution_count": 38,
   "metadata": {},
   "outputs": [
    {
     "name": "stdout",
     "output_type": "stream",
     "text": [
      "[1, 2, 3]\n"
     ]
    }
   ],
   "source": [
    "# the mean is the sum of the contents divided by the number of elements. its just the average.\n",
    "\n",
    "alist = [1, 2, 3, 4, 5, 6, 7, 8]\n",
    "mean = sum(alist)//len(alist)\n",
    "num = ''\n",
    "\n",
    "import statistics\n",
    "\n",
    "print(list(filter(lambda num: num < mean, alist)))\n",
    "\n"
   ]
  },
  {
   "cell_type": "markdown",
   "metadata": {},
   "source": [
    "## Reduce() <br>\n",
    "<p>Be very careful when using this function, as of Python 3 it's been moved to the 'functools' library and no longer is a built-in function.<br>The creator of Python himself, says to just use a for loop instead.</p>"
   ]
  },
  {
   "cell_type": "markdown",
   "metadata": {},
   "source": [
    "#### Syntax"
   ]
  },
  {
   "cell_type": "code",
   "execution_count": 43,
   "metadata": {},
   "outputs": [
    {
     "name": "stdout",
     "output_type": "stream",
     "text": [
      "36\n",
      "1 2\n",
      "3 3\n",
      "6 4\n",
      "10 5\n",
      "15 6\n",
      "21 7\n",
      "28 8\n",
      "36\n"
     ]
    }
   ],
   "source": [
    "# by reducing, you are boiling it down to its main parts.\n",
    "\n",
    "from functools import reduce\n",
    "\n",
    "new_list = [1, 2, 3, 4, 5, 6,7,8]\n",
    "\n",
    "def add_nums(nums):\n",
    "    total = 0\n",
    "    for num in nums:\n",
    "        total += num\n",
    "    return total \n",
    "\n",
    "print(add_nums(new_list))\n",
    "\n",
    "#reduce (function(perameter1, parameter2), iterable)\n",
    "\n",
    "def reduce_nums(num1, num2):\n",
    "    print(num1, num2)\n",
    "    return num1 + num2\n",
    "\n",
    "\n",
    "print(reduce(reduce_nums, new_list))\n"
   ]
  },
  {
   "cell_type": "markdown",
   "metadata": {},
   "source": [
    "#### Using Lambda's with Reduce()"
   ]
  },
  {
   "cell_type": "code",
   "execution_count": 44,
   "metadata": {},
   "outputs": [
    {
     "data": {
      "text/plain": [
       "36"
      ]
     },
     "execution_count": 44,
     "metadata": {},
     "output_type": "execute_result"
    }
   ],
   "source": [
    "\n",
    "\n",
    "reduce(lambda num1, num2: num1 + num2, new_list)\n"
   ]
  },
  {
   "cell_type": "markdown",
   "metadata": {},
   "source": [
    "#### In-Class Exercise #4 <br>\n",
    "<p>Use the reduce function to multiply the numbers in the list below together with a lambda function.</p>"
   ]
  },
  {
   "cell_type": "code",
   "execution_count": 45,
   "metadata": {},
   "outputs": [
    {
     "data": {
      "text/plain": [
       "40320"
      ]
     },
     "execution_count": 45,
     "metadata": {},
     "output_type": "execute_result"
    }
   ],
   "source": [
    "reduce(lambda num1, num2: num1 * num2, new_list)\n",
    "\n"
   ]
  },
  {
   "cell_type": "markdown",
   "metadata": {},
   "source": [
    "## Recursion <br>\n",
    "<p>Recursion means that a function is calling itself, so it contanstly executes until a base case is reached. It will then push the returning values back up the chain until the function is complete. A prime example of recursion is computing factorials... such that 5! (factorial) is 5*4*3*2*1 which equals 120.</p>"
   ]
  },
  {
   "cell_type": "markdown",
   "metadata": {},
   "source": [
    "#### Implementing a Base Case"
   ]
  },
  {
   "cell_type": "code",
   "execution_count": 49,
   "metadata": {},
   "outputs": [
    {
     "name": "stdout",
     "output_type": "stream",
     "text": [
      "add_nums(5) = 5 + add_nums(4)\n",
      "add_nums(4) = 4 + add_nums(3)\n",
      "add_nums(3) = 3 + add_nums(2)\n",
      "add_nums(2) = 2 + add_nums(1)\n",
      "add_nums(1) = 1\n",
      "15\n"
     ]
    }
   ],
   "source": [
    "def add_nums(num):\n",
    "    #hypo num = 5\n",
    "    # 5 + 4 + 3 + 2 + 1 \n",
    "\n",
    "    # vv base case\n",
    "    if num <= 1:\n",
    "        print(f'add_nums({num}) = {num}')\n",
    "        return num\n",
    "    else:\n",
    "        # recursive\n",
    "        print(f'add_nums({num}) = {num} + add_nums({num - 1})')\n",
    "        return num + add_nums(num - 1)\n",
    "    \n",
    "print(add_nums(5))"
   ]
  },
  {
   "cell_type": "markdown",
   "metadata": {},
   "source": [
    "#### Writing a Factorial Function"
   ]
  },
  {
   "cell_type": "code",
   "execution_count": 52,
   "metadata": {},
   "outputs": [
    {
     "name": "stdout",
     "output_type": "stream",
     "text": [
      "fac_nums(5) = 5 + fac_nums(4)\n",
      "fac_nums(4) = 4 + fac_nums(3)\n",
      "fac_nums(3) = 3 + fac_nums(2)\n",
      "fac_nums(2) = 2 + fac_nums(1)\n",
      "fac_nums(1) = 1\n",
      "120\n"
     ]
    }
   ],
   "source": [
    "def fac_nums(num):\n",
    "    #hypo num = 5\n",
    "    # 5 + 4 + 3 + 2 + 1 \n",
    "\n",
    "    # vv base case\n",
    "    if num <= 1:\n",
    "        print(f'fac_nums({num}) = {num}')\n",
    "        return num\n",
    "    else:\n",
    "        # recursive\n",
    "        print(f'fac_nums({num}) = {num} + fac_nums({num - 1})')\n",
    "        return num * fac_nums(num - 1)\n",
    "    \n",
    "print(fac_nums(5))\n",
    "    "
   ]
  },
  {
   "cell_type": "markdown",
   "metadata": {},
   "source": [
    "#### In-Class Exercise #5 <br>\n",
    "<p>Write a recursive function that subtracts all numbers to the argument given.</p>"
   ]
  },
  {
   "cell_type": "code",
   "execution_count": 54,
   "metadata": {},
   "outputs": [
    {
     "name": "stdout",
     "output_type": "stream",
     "text": [
      "fac_nums(5) = 5 + fac_nums(4)\n",
      "fac_nums(4) = 4 + fac_nums(3)\n",
      "fac_nums(3) = 3 + fac_nums(2)\n",
      "fac_nums(2) = 2 + fac_nums(1)\n",
      "fac_nums(1) = 1\n",
      "3\n"
     ]
    }
   ],
   "source": [
    "def fac_nums(num):\n",
    "    #hypo num = 5\n",
    "    # 5 + 4 + 3 + 2 + 1 \n",
    "\n",
    "    # vv base case\n",
    "    if num <= 1:\n",
    "        print(f'fac_nums({num}) = {num}')\n",
    "        return num\n",
    "    else:\n",
    "        # recursive\n",
    "        print(f'fac_nums({num}) = {num} + fac_nums({num - 1})')\n",
    "        return num - fac_nums(num - 1)\n",
    "    \n",
    "print(fac_nums(5))"
   ]
  },
  {
   "cell_type": "markdown",
   "metadata": {},
   "source": [
    "## Generators <br>\n",
    "<p>Generators are a type of iterable, like lists or tuples. They do not allow indexing, but they can still be iterated through with for loops. They are created using functions and the yield statement.</p>"
   ]
  },
  {
   "cell_type": "markdown",
   "metadata": {},
   "source": [
    "#### Yield Keyword <br>\n",
    "<p>The yield keyword denotes a generator, it doesn't return so it won't leave the function and reset all variables in the function scope, instead it yields the number back to the caller.</p>"
   ]
  },
  {
   "cell_type": "code",
   "execution_count": 64,
   "metadata": {},
   "outputs": [
    {
     "name": "stdout",
     "output_type": "stream",
     "text": [
      "<function my_genny at 0x0000018D0D241260>\n",
      "<generator object my_genny at 0x0000018D0D1DD300>\n",
      "0\n",
      "1\n",
      "2\n",
      "[3, 4, 5, 6, 7, 8, 9, 10, 11, 12]\n",
      "13\n"
     ]
    }
   ],
   "source": [
    "# generators are to continue to use the same code as the main function.\n",
    "\n",
    "def my_genny():\n",
    "    num = 0\n",
    "    while True:\n",
    "        yield num \n",
    "        num += 1\n",
    "\n",
    "print(my_genny)\n",
    "\n",
    "generate = my_genny()\n",
    "print(generate)\n",
    "\n",
    "print(next(generate))\n",
    "print(next(generate))\n",
    "print(next(generate))\n",
    "\n",
    "my_list = []\n",
    "\n",
    "while len(my_list) < 10:\n",
    "    my_list.append(next(generate))\n",
    "\n",
    "\n",
    "print(my_list)\n",
    "print(next(generate))\n"
   ]
  },
  {
   "cell_type": "markdown",
   "metadata": {},
   "source": [
    "#### Infinite Generator"
   ]
  },
  {
   "cell_type": "code",
   "execution_count": null,
   "metadata": {},
   "outputs": [],
   "source": [
    "# bad, never create infinite loops\n",
    "\n"
   ]
  },
  {
   "cell_type": "markdown",
   "metadata": {},
   "source": [
    "#### In-Class Exercise #6 <br>\n",
    "<p>Create a generator that takes a number argument and yields that number squared, then prints each number squared until zero is reached.</p>"
   ]
  },
  {
   "cell_type": "code",
   "execution_count": null,
   "metadata": {},
   "outputs": [],
   "source": []
  },
  {
   "cell_type": "markdown",
   "metadata": {},
   "source": [
    "# Exercises"
   ]
  },
  {
   "cell_type": "markdown",
   "metadata": {},
   "source": [
    "### Exercise #1 <br>\n",
    "<p>Filter out all of the empty strings from the list below</p>\n",
    "\n",
    "`Output: ['Argentina', 'San Diego', 'Boston', 'New York']`"
   ]
  },
  {
   "cell_type": "code",
   "execution_count": 4,
   "metadata": {},
   "outputs": [
    {
     "name": "stdout",
     "output_type": "stream",
     "text": [
      "['Argentina', 'San Diego', 'Boston', 'New York']\n"
     ]
    }
   ],
   "source": [
    "# define function to filter out empty strings using filter()\n",
    "# check if string is empty\n",
    "# strip() removes whitespace hmm could this be the hint that you were going to give us...\n",
    "# filter(function, iterable)\n",
    "# != \"\" to check if string is not empty\n",
    "# https://www.w3schools.com/python/ref_func_filter.asp\n",
    "\n",
    "\n",
    "places = [\" \",\"Argentina\", \" \", \"San Diego\",\"\",\"  \",\"\",\"Boston\",\"New York\"]\n",
    "\n",
    "def not_empty(astring):\n",
    "    return astring.strip() != \"\"\n",
    "\n",
    "remaining_strings = filter(not_empty, places)\n",
    "\n",
    "print(list(remaining_strings))\n",
    "\n",
    "\n",
    "\n"
   ]
  },
  {
   "cell_type": "markdown",
   "metadata": {},
   "source": [
    "### Exercise #2 <br>\n",
    "<p>Write an anonymous function that sorts this list by the last name...<br><b>Hint: Use the \".sort()\" method and access the key\"</b></p>\n",
    "\n",
    "`Output: ['Victor aNisimov', 'Gary A.J. Bernstein', 'Joel Carter', 'Andrew P. Garfield', 'David hassELHOFF']`"
   ]
  },
  {
   "cell_type": "code",
   "execution_count": 5,
   "metadata": {},
   "outputs": [
    {
     "name": "stdout",
     "output_type": "stream",
     "text": [
      "['Victor aNisimov', 'Gary A.J. Bernstein', 'Joel Carter', 'Andrew P. Garfield', 'David hassELHOFF']\n"
     ]
    }
   ],
   "source": [
    "# https://www.w3schools.com/python/ref_list_sort.asp\n",
    "#look into sorting keys that will target the last name \n",
    "# 1 - define lambda to get last names from list -\n",
    "# 2 - split() function to two sepereate words\n",
    "# 3 - index last name name.split[-1]\n",
    "# 4 - use .sort() to sort the list by last name\n",
    "#list.sort() sorts list ascending by default\n",
    "# get by using get_lastnames key\n",
    "# \n",
    "author = [\"Joel Carter\", \"Victor aNisimov\", \"Andrew P. Garfield\",\"David hassELHOFF\",\"Gary A.J. Bernstein\"]\n",
    "    #   def get_lastnames(name): # lambda function does same thing\n",
    "    #       return name.split()[-1].lower()\n",
    "\n",
    "get_lastnames = lambda name: name.split()[-1].lower()\n",
    "\n",
    "author.sort(key=get_lastnames)\n",
    "\n",
    "print(author)\n"
   ]
  },
  {
   "cell_type": "markdown",
   "metadata": {},
   "source": [
    "### Exercise #3 <br>\n",
    "<p>Convert the list below from Celsius to Farhenheit, using the map function with a lambda...</p>\n",
    "\n",
    "`Output: [('Nashua', 89.6), ('Boston', 53.6), ('Los Angelos', 111.2), ('Miami', 84.2)]\n",
    "`"
   ]
  },
  {
   "cell_type": "code",
   "execution_count": 8,
   "metadata": {},
   "outputs": [
    {
     "name": "stdout",
     "output_type": "stream",
     "text": [
      "[('Nashua', 89.6), ('Boston', 53.6), ('Los Angelos', 111.2), ('Miami', 84.2)]\n"
     ]
    }
   ],
   "source": [
    "\n",
    "# start with touples given\n",
    "# need to take tuples and convert the temp to celsius with # F = (9/5)*C + 32\n",
    "# define lambda function for this\n",
    "# map() instead of def function to apply lambda function to temp element in tuples\n",
    "# can be map (function, iterable(strings, list, sets, dictionaries))\n",
    "# map(function to be used, list to be used)\n",
    "# celsius_tuple can be accessed with index [0] and [1] the conversion applies to [1]\n",
    "#recreate list full of tuples in output\n",
    "\n",
    "places = [('Nashua',32),(\"Boston\",12),(\"Los Angelos\",44),(\"Miami\",29)]\n",
    "\n",
    "convert_temp = lambda celsius_tuple: (celsius_tuple[0], celsius_tuple[1] * (9/5) + 32)\n",
    "\n",
    "final_converted = list(map(convert_temp, places)) # wrap as list \n",
    "                  \n",
    "print(final_converted)\n",
    "\n",
    "# <map object at 0x0000019C8D369420> # when not wrapping \n"
   ]
  },
  {
   "cell_type": "markdown",
   "metadata": {},
   "source": [
    "### Exercise #4 <br>\n",
    "<p>Write a recursion function to perform the fibonacci sequence up to the number passed in.</p>\n",
    "\n",
    "`Output for fib(5) => \n",
    "Iteration 0: 1\n",
    "Iteration 1: 1\n",
    "Iteration 2: 2\n",
    "Iteration 3: 3\n",
    "Iteration 4: 5\n",
    "Iteration 5: 8`"
   ]
  },
  {
   "cell_type": "code",
   "execution_count": 12,
   "metadata": {
    "scrolled": true
   },
   "outputs": [
    {
     "name": "stdout",
     "output_type": "stream",
     "text": [
      "0 1 1 2 3 5 None\n"
     ]
    }
   ],
   "source": [
    "# extra credit. show an attempt \n",
    "# recursion \n",
    "# look up fibonacci sequence\n",
    "        # def add_nums(num):\n",
    "        #     # vv base case\n",
    "        #     if num <= 1:\n",
    "        #         print(f'add_nums({num}) = {num}')\n",
    "        #         return num\n",
    "        #     else:\n",
    "        #         # recursive\n",
    "        #         print(f'add_nums({num}) = {num} + add_nums({num - 1})')\n",
    "        #         return num + add_nums(num - 1)\n",
    "            \n",
    "        # print(add_nums(5))\n",
    "\n",
    "def fibonacci(n):\n",
    "    if n <= 0:\n",
    "        return n\n",
    "    elif n == 1:\n",
    "        return 1\n",
    "    else:\n",
    "        return fibonacci(n - 1) + fibonacci(n - 2)\n",
    "    \n",
    "def fibonacci_sequence(n):\n",
    "    for i in range(n + 1):\n",
    "        print(fibonacci(i))\n",
    "\n",
    "print(fibonacci_sequence(5))\n",
    "\n",
    "# 0\n",
    "# 1\n",
    "# 1\n",
    "# 2\n",
    "# 3\n",
    "# None\n"
   ]
  }
 ],
 "metadata": {
  "kernelspec": {
   "display_name": "Python 3",
   "language": "python",
   "name": "python3"
  },
  "language_info": {
   "codemirror_mode": {
    "name": "ipython",
    "version": 3
   },
   "file_extension": ".py",
   "mimetype": "text/x-python",
   "name": "python",
   "nbconvert_exporter": "python",
   "pygments_lexer": "ipython3",
   "version": "3.11.4"
  }
 },
 "nbformat": 4,
 "nbformat_minor": 2
}
